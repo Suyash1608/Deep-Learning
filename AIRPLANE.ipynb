{
 "cells": [
  {
   "cell_type": "markdown",
   "metadata": {
    "id": "IXKkzvB2M2-F"
   },
   "source": [
    "# **Aim: Predicting Airlines Passenger count base in LSTM,GRU,RNN**"
   ]
  },
  {
   "cell_type": "code",
   "execution_count": null,
   "metadata": {
    "id": "ieVj-vBCizSE"
   },
   "outputs": [],
   "source": [
    "import pandas as pd\n",
    "import numpy as np"
   ]
  },
  {
   "cell_type": "code",
   "execution_count": null,
   "metadata": {
    "colab": {
     "base_uri": "https://localhost:8080/",
     "height": 73
    },
    "executionInfo": {
     "elapsed": 18233,
     "status": "ok",
     "timestamp": 1680873996289,
     "user": {
      "displayName": "SUYASH GUPTA",
      "userId": "03377751817151127999"
     },
     "user_tz": -330
    },
    "id": "hcMziGoojh9k",
    "outputId": "f233bb99-eb73-421a-e41a-c7ef20d66ee0"
   },
   "outputs": [
    {
     "data": {
      "text/html": [
       "\n",
       "     <input type=\"file\" id=\"files-6610415a-a2e5-48b8-acdb-dbec8af5af31\" name=\"files[]\" multiple disabled\n",
       "        style=\"border:none\" />\n",
       "     <output id=\"result-6610415a-a2e5-48b8-acdb-dbec8af5af31\">\n",
       "      Upload widget is only available when the cell has been executed in the\n",
       "      current browser session. Please rerun this cell to enable.\n",
       "      </output>\n",
       "      <script>// Copyright 2017 Google LLC\n",
       "//\n",
       "// Licensed under the Apache License, Version 2.0 (the \"License\");\n",
       "// you may not use this file except in compliance with the License.\n",
       "// You may obtain a copy of the License at\n",
       "//\n",
       "//      http://www.apache.org/licenses/LICENSE-2.0\n",
       "//\n",
       "// Unless required by applicable law or agreed to in writing, software\n",
       "// distributed under the License is distributed on an \"AS IS\" BASIS,\n",
       "// WITHOUT WARRANTIES OR CONDITIONS OF ANY KIND, either express or implied.\n",
       "// See the License for the specific language governing permissions and\n",
       "// limitations under the License.\n",
       "\n",
       "/**\n",
       " * @fileoverview Helpers for google.colab Python module.\n",
       " */\n",
       "(function(scope) {\n",
       "function span(text, styleAttributes = {}) {\n",
       "  const element = document.createElement('span');\n",
       "  element.textContent = text;\n",
       "  for (const key of Object.keys(styleAttributes)) {\n",
       "    element.style[key] = styleAttributes[key];\n",
       "  }\n",
       "  return element;\n",
       "}\n",
       "\n",
       "// Max number of bytes which will be uploaded at a time.\n",
       "const MAX_PAYLOAD_SIZE = 100 * 1024;\n",
       "\n",
       "function _uploadFiles(inputId, outputId) {\n",
       "  const steps = uploadFilesStep(inputId, outputId);\n",
       "  const outputElement = document.getElementById(outputId);\n",
       "  // Cache steps on the outputElement to make it available for the next call\n",
       "  // to uploadFilesContinue from Python.\n",
       "  outputElement.steps = steps;\n",
       "\n",
       "  return _uploadFilesContinue(outputId);\n",
       "}\n",
       "\n",
       "// This is roughly an async generator (not supported in the browser yet),\n",
       "// where there are multiple asynchronous steps and the Python side is going\n",
       "// to poll for completion of each step.\n",
       "// This uses a Promise to block the python side on completion of each step,\n",
       "// then passes the result of the previous step as the input to the next step.\n",
       "function _uploadFilesContinue(outputId) {\n",
       "  const outputElement = document.getElementById(outputId);\n",
       "  const steps = outputElement.steps;\n",
       "\n",
       "  const next = steps.next(outputElement.lastPromiseValue);\n",
       "  return Promise.resolve(next.value.promise).then((value) => {\n",
       "    // Cache the last promise value to make it available to the next\n",
       "    // step of the generator.\n",
       "    outputElement.lastPromiseValue = value;\n",
       "    return next.value.response;\n",
       "  });\n",
       "}\n",
       "\n",
       "/**\n",
       " * Generator function which is called between each async step of the upload\n",
       " * process.\n",
       " * @param {string} inputId Element ID of the input file picker element.\n",
       " * @param {string} outputId Element ID of the output display.\n",
       " * @return {!Iterable<!Object>} Iterable of next steps.\n",
       " */\n",
       "function* uploadFilesStep(inputId, outputId) {\n",
       "  const inputElement = document.getElementById(inputId);\n",
       "  inputElement.disabled = false;\n",
       "\n",
       "  const outputElement = document.getElementById(outputId);\n",
       "  outputElement.innerHTML = '';\n",
       "\n",
       "  const pickedPromise = new Promise((resolve) => {\n",
       "    inputElement.addEventListener('change', (e) => {\n",
       "      resolve(e.target.files);\n",
       "    });\n",
       "  });\n",
       "\n",
       "  const cancel = document.createElement('button');\n",
       "  inputElement.parentElement.appendChild(cancel);\n",
       "  cancel.textContent = 'Cancel upload';\n",
       "  const cancelPromise = new Promise((resolve) => {\n",
       "    cancel.onclick = () => {\n",
       "      resolve(null);\n",
       "    };\n",
       "  });\n",
       "\n",
       "  // Wait for the user to pick the files.\n",
       "  const files = yield {\n",
       "    promise: Promise.race([pickedPromise, cancelPromise]),\n",
       "    response: {\n",
       "      action: 'starting',\n",
       "    }\n",
       "  };\n",
       "\n",
       "  cancel.remove();\n",
       "\n",
       "  // Disable the input element since further picks are not allowed.\n",
       "  inputElement.disabled = true;\n",
       "\n",
       "  if (!files) {\n",
       "    return {\n",
       "      response: {\n",
       "        action: 'complete',\n",
       "      }\n",
       "    };\n",
       "  }\n",
       "\n",
       "  for (const file of files) {\n",
       "    const li = document.createElement('li');\n",
       "    li.append(span(file.name, {fontWeight: 'bold'}));\n",
       "    li.append(span(\n",
       "        `(${file.type || 'n/a'}) - ${file.size} bytes, ` +\n",
       "        `last modified: ${\n",
       "            file.lastModifiedDate ? file.lastModifiedDate.toLocaleDateString() :\n",
       "                                    'n/a'} - `));\n",
       "    const percent = span('0% done');\n",
       "    li.appendChild(percent);\n",
       "\n",
       "    outputElement.appendChild(li);\n",
       "\n",
       "    const fileDataPromise = new Promise((resolve) => {\n",
       "      const reader = new FileReader();\n",
       "      reader.onload = (e) => {\n",
       "        resolve(e.target.result);\n",
       "      };\n",
       "      reader.readAsArrayBuffer(file);\n",
       "    });\n",
       "    // Wait for the data to be ready.\n",
       "    let fileData = yield {\n",
       "      promise: fileDataPromise,\n",
       "      response: {\n",
       "        action: 'continue',\n",
       "      }\n",
       "    };\n",
       "\n",
       "    // Use a chunked sending to avoid message size limits. See b/62115660.\n",
       "    let position = 0;\n",
       "    do {\n",
       "      const length = Math.min(fileData.byteLength - position, MAX_PAYLOAD_SIZE);\n",
       "      const chunk = new Uint8Array(fileData, position, length);\n",
       "      position += length;\n",
       "\n",
       "      const base64 = btoa(String.fromCharCode.apply(null, chunk));\n",
       "      yield {\n",
       "        response: {\n",
       "          action: 'append',\n",
       "          file: file.name,\n",
       "          data: base64,\n",
       "        },\n",
       "      };\n",
       "\n",
       "      let percentDone = fileData.byteLength === 0 ?\n",
       "          100 :\n",
       "          Math.round((position / fileData.byteLength) * 100);\n",
       "      percent.textContent = `${percentDone}% done`;\n",
       "\n",
       "    } while (position < fileData.byteLength);\n",
       "  }\n",
       "\n",
       "  // All done.\n",
       "  yield {\n",
       "    response: {\n",
       "      action: 'complete',\n",
       "    }\n",
       "  };\n",
       "}\n",
       "\n",
       "scope.google = scope.google || {};\n",
       "scope.google.colab = scope.google.colab || {};\n",
       "scope.google.colab._files = {\n",
       "  _uploadFiles,\n",
       "  _uploadFilesContinue,\n",
       "};\n",
       "})(self);\n",
       "</script> "
      ],
      "text/plain": [
       "<IPython.core.display.HTML object>"
      ]
     },
     "metadata": {},
     "output_type": "display_data"
    },
    {
     "name": "stdout",
     "output_type": "stream",
     "text": [
      "Saving AirPassengers.csv to AirPassengers.csv\n"
     ]
    }
   ],
   "source": [
    "from google.colab import files\n",
    "uploaded=files.upload()"
   ]
  },
  {
   "cell_type": "code",
   "execution_count": null,
   "metadata": {
    "id": "YmvuGxJ5jsve"
   },
   "outputs": [],
   "source": [
    "data=pd.read_csv('AirPassengers.csv')"
   ]
  },
  {
   "cell_type": "code",
   "execution_count": null,
   "metadata": {
    "colab": {
     "base_uri": "https://localhost:8080/",
     "height": 206
    },
    "executionInfo": {
     "elapsed": 10,
     "status": "ok",
     "timestamp": 1680873996292,
     "user": {
      "displayName": "SUYASH GUPTA",
      "userId": "03377751817151127999"
     },
     "user_tz": -330
    },
    "id": "NHLXSRtSkQK2",
    "outputId": "430bda7c-25f1-4320-8e12-a338ded321df"
   },
   "outputs": [
    {
     "data": {
      "text/html": [
       "\n",
       "  <div id=\"df-1589a880-3bce-496f-a588-090a491a8d32\">\n",
       "    <div class=\"colab-df-container\">\n",
       "      <div>\n",
       "<style scoped>\n",
       "    .dataframe tbody tr th:only-of-type {\n",
       "        vertical-align: middle;\n",
       "    }\n",
       "\n",
       "    .dataframe tbody tr th {\n",
       "        vertical-align: top;\n",
       "    }\n",
       "\n",
       "    .dataframe thead th {\n",
       "        text-align: right;\n",
       "    }\n",
       "</style>\n",
       "<table border=\"1\" class=\"dataframe\">\n",
       "  <thead>\n",
       "    <tr style=\"text-align: right;\">\n",
       "      <th></th>\n",
       "      <th>Month</th>\n",
       "      <th>#Passengers</th>\n",
       "    </tr>\n",
       "  </thead>\n",
       "  <tbody>\n",
       "    <tr>\n",
       "      <th>0</th>\n",
       "      <td>1949-01</td>\n",
       "      <td>112</td>\n",
       "    </tr>\n",
       "    <tr>\n",
       "      <th>1</th>\n",
       "      <td>1949-02</td>\n",
       "      <td>118</td>\n",
       "    </tr>\n",
       "    <tr>\n",
       "      <th>2</th>\n",
       "      <td>1949-03</td>\n",
       "      <td>132</td>\n",
       "    </tr>\n",
       "    <tr>\n",
       "      <th>3</th>\n",
       "      <td>1949-04</td>\n",
       "      <td>129</td>\n",
       "    </tr>\n",
       "    <tr>\n",
       "      <th>4</th>\n",
       "      <td>1949-05</td>\n",
       "      <td>121</td>\n",
       "    </tr>\n",
       "  </tbody>\n",
       "</table>\n",
       "</div>\n",
       "      <button class=\"colab-df-convert\" onclick=\"convertToInteractive('df-1589a880-3bce-496f-a588-090a491a8d32')\"\n",
       "              title=\"Convert this dataframe to an interactive table.\"\n",
       "              style=\"display:none;\">\n",
       "        \n",
       "  <svg xmlns=\"http://www.w3.org/2000/svg\" height=\"24px\"viewBox=\"0 0 24 24\"\n",
       "       width=\"24px\">\n",
       "    <path d=\"M0 0h24v24H0V0z\" fill=\"none\"/>\n",
       "    <path d=\"M18.56 5.44l.94 2.06.94-2.06 2.06-.94-2.06-.94-.94-2.06-.94 2.06-2.06.94zm-11 1L8.5 8.5l.94-2.06 2.06-.94-2.06-.94L8.5 2.5l-.94 2.06-2.06.94zm10 10l.94 2.06.94-2.06 2.06-.94-2.06-.94-.94-2.06-.94 2.06-2.06.94z\"/><path d=\"M17.41 7.96l-1.37-1.37c-.4-.4-.92-.59-1.43-.59-.52 0-1.04.2-1.43.59L10.3 9.45l-7.72 7.72c-.78.78-.78 2.05 0 2.83L4 21.41c.39.39.9.59 1.41.59.51 0 1.02-.2 1.41-.59l7.78-7.78 2.81-2.81c.8-.78.8-2.07 0-2.86zM5.41 20L4 18.59l7.72-7.72 1.47 1.35L5.41 20z\"/>\n",
       "  </svg>\n",
       "      </button>\n",
       "      \n",
       "  <style>\n",
       "    .colab-df-container {\n",
       "      display:flex;\n",
       "      flex-wrap:wrap;\n",
       "      gap: 12px;\n",
       "    }\n",
       "\n",
       "    .colab-df-convert {\n",
       "      background-color: #E8F0FE;\n",
       "      border: none;\n",
       "      border-radius: 50%;\n",
       "      cursor: pointer;\n",
       "      display: none;\n",
       "      fill: #1967D2;\n",
       "      height: 32px;\n",
       "      padding: 0 0 0 0;\n",
       "      width: 32px;\n",
       "    }\n",
       "\n",
       "    .colab-df-convert:hover {\n",
       "      background-color: #E2EBFA;\n",
       "      box-shadow: 0px 1px 2px rgba(60, 64, 67, 0.3), 0px 1px 3px 1px rgba(60, 64, 67, 0.15);\n",
       "      fill: #174EA6;\n",
       "    }\n",
       "\n",
       "    [theme=dark] .colab-df-convert {\n",
       "      background-color: #3B4455;\n",
       "      fill: #D2E3FC;\n",
       "    }\n",
       "\n",
       "    [theme=dark] .colab-df-convert:hover {\n",
       "      background-color: #434B5C;\n",
       "      box-shadow: 0px 1px 3px 1px rgba(0, 0, 0, 0.15);\n",
       "      filter: drop-shadow(0px 1px 2px rgba(0, 0, 0, 0.3));\n",
       "      fill: #FFFFFF;\n",
       "    }\n",
       "  </style>\n",
       "\n",
       "      <script>\n",
       "        const buttonEl =\n",
       "          document.querySelector('#df-1589a880-3bce-496f-a588-090a491a8d32 button.colab-df-convert');\n",
       "        buttonEl.style.display =\n",
       "          google.colab.kernel.accessAllowed ? 'block' : 'none';\n",
       "\n",
       "        async function convertToInteractive(key) {\n",
       "          const element = document.querySelector('#df-1589a880-3bce-496f-a588-090a491a8d32');\n",
       "          const dataTable =\n",
       "            await google.colab.kernel.invokeFunction('convertToInteractive',\n",
       "                                                     [key], {});\n",
       "          if (!dataTable) return;\n",
       "\n",
       "          const docLinkHtml = 'Like what you see? Visit the ' +\n",
       "            '<a target=\"_blank\" href=https://colab.research.google.com/notebooks/data_table.ipynb>data table notebook</a>'\n",
       "            + ' to learn more about interactive tables.';\n",
       "          element.innerHTML = '';\n",
       "          dataTable['output_type'] = 'display_data';\n",
       "          await google.colab.output.renderOutput(dataTable, element);\n",
       "          const docLink = document.createElement('div');\n",
       "          docLink.innerHTML = docLinkHtml;\n",
       "          element.appendChild(docLink);\n",
       "        }\n",
       "      </script>\n",
       "    </div>\n",
       "  </div>\n",
       "  "
      ],
      "text/plain": [
       "     Month  #Passengers\n",
       "0  1949-01          112\n",
       "1  1949-02          118\n",
       "2  1949-03          132\n",
       "3  1949-04          129\n",
       "4  1949-05          121"
      ]
     },
     "execution_count": 4,
     "metadata": {},
     "output_type": "execute_result"
    }
   ],
   "source": [
    "data.head()"
   ]
  },
  {
   "cell_type": "code",
   "execution_count": null,
   "metadata": {
    "id": "cWErJO8KvFri"
   },
   "outputs": [],
   "source": [
    "import numpy as np\n",
    "import pandas as pd\n",
    "import tensorflow as tf\n",
    "import matplotlib.pyplot as plt\n",
    "import sklearn.preprocessing\n",
    "from sklearn.metrics import r2_score\n",
    "from keras.layers import Dense, Dropout, SimpleRNN, LSTM,GRU\n",
    "from keras.models import Sequential"
   ]
  },
  {
   "cell_type": "code",
   "execution_count": null,
   "metadata": {
    "colab": {
     "base_uri": "https://localhost:8080/",
     "height": 237
    },
    "executionInfo": {
     "elapsed": 49,
     "status": "ok",
     "timestamp": 1680874007063,
     "user": {
      "displayName": "SUYASH GUPTA",
      "userId": "03377751817151127999"
     },
     "user_tz": -330
    },
    "id": "I6rEDoZAvGYK",
    "outputId": "dfb914f0-cdbf-49fe-9c83-1af850058088"
   },
   "outputs": [
    {
     "data": {
      "text/html": [
       "\n",
       "  <div id=\"df-49cbf66e-7e33-4672-b234-29224d1ab7e6\">\n",
       "    <div class=\"colab-df-container\">\n",
       "      <div>\n",
       "<style scoped>\n",
       "    .dataframe tbody tr th:only-of-type {\n",
       "        vertical-align: middle;\n",
       "    }\n",
       "\n",
       "    .dataframe tbody tr th {\n",
       "        vertical-align: top;\n",
       "    }\n",
       "\n",
       "    .dataframe thead th {\n",
       "        text-align: right;\n",
       "    }\n",
       "</style>\n",
       "<table border=\"1\" class=\"dataframe\">\n",
       "  <thead>\n",
       "    <tr style=\"text-align: right;\">\n",
       "      <th></th>\n",
       "      <th>Passengers</th>\n",
       "    </tr>\n",
       "    <tr>\n",
       "      <th>Date</th>\n",
       "      <th></th>\n",
       "    </tr>\n",
       "  </thead>\n",
       "  <tbody>\n",
       "    <tr>\n",
       "      <th>1949-01-01</th>\n",
       "      <td>112</td>\n",
       "    </tr>\n",
       "    <tr>\n",
       "      <th>1949-02-01</th>\n",
       "      <td>118</td>\n",
       "    </tr>\n",
       "    <tr>\n",
       "      <th>1949-03-01</th>\n",
       "      <td>132</td>\n",
       "    </tr>\n",
       "    <tr>\n",
       "      <th>1949-04-01</th>\n",
       "      <td>129</td>\n",
       "    </tr>\n",
       "    <tr>\n",
       "      <th>1949-05-01</th>\n",
       "      <td>121</td>\n",
       "    </tr>\n",
       "  </tbody>\n",
       "</table>\n",
       "</div>\n",
       "      <button class=\"colab-df-convert\" onclick=\"convertToInteractive('df-49cbf66e-7e33-4672-b234-29224d1ab7e6')\"\n",
       "              title=\"Convert this dataframe to an interactive table.\"\n",
       "              style=\"display:none;\">\n",
       "        \n",
       "  <svg xmlns=\"http://www.w3.org/2000/svg\" height=\"24px\"viewBox=\"0 0 24 24\"\n",
       "       width=\"24px\">\n",
       "    <path d=\"M0 0h24v24H0V0z\" fill=\"none\"/>\n",
       "    <path d=\"M18.56 5.44l.94 2.06.94-2.06 2.06-.94-2.06-.94-.94-2.06-.94 2.06-2.06.94zm-11 1L8.5 8.5l.94-2.06 2.06-.94-2.06-.94L8.5 2.5l-.94 2.06-2.06.94zm10 10l.94 2.06.94-2.06 2.06-.94-2.06-.94-.94-2.06-.94 2.06-2.06.94z\"/><path d=\"M17.41 7.96l-1.37-1.37c-.4-.4-.92-.59-1.43-.59-.52 0-1.04.2-1.43.59L10.3 9.45l-7.72 7.72c-.78.78-.78 2.05 0 2.83L4 21.41c.39.39.9.59 1.41.59.51 0 1.02-.2 1.41-.59l7.78-7.78 2.81-2.81c.8-.78.8-2.07 0-2.86zM5.41 20L4 18.59l7.72-7.72 1.47 1.35L5.41 20z\"/>\n",
       "  </svg>\n",
       "      </button>\n",
       "      \n",
       "  <style>\n",
       "    .colab-df-container {\n",
       "      display:flex;\n",
       "      flex-wrap:wrap;\n",
       "      gap: 12px;\n",
       "    }\n",
       "\n",
       "    .colab-df-convert {\n",
       "      background-color: #E8F0FE;\n",
       "      border: none;\n",
       "      border-radius: 50%;\n",
       "      cursor: pointer;\n",
       "      display: none;\n",
       "      fill: #1967D2;\n",
       "      height: 32px;\n",
       "      padding: 0 0 0 0;\n",
       "      width: 32px;\n",
       "    }\n",
       "\n",
       "    .colab-df-convert:hover {\n",
       "      background-color: #E2EBFA;\n",
       "      box-shadow: 0px 1px 2px rgba(60, 64, 67, 0.3), 0px 1px 3px 1px rgba(60, 64, 67, 0.15);\n",
       "      fill: #174EA6;\n",
       "    }\n",
       "\n",
       "    [theme=dark] .colab-df-convert {\n",
       "      background-color: #3B4455;\n",
       "      fill: #D2E3FC;\n",
       "    }\n",
       "\n",
       "    [theme=dark] .colab-df-convert:hover {\n",
       "      background-color: #434B5C;\n",
       "      box-shadow: 0px 1px 3px 1px rgba(0, 0, 0, 0.15);\n",
       "      filter: drop-shadow(0px 1px 2px rgba(0, 0, 0, 0.3));\n",
       "      fill: #FFFFFF;\n",
       "    }\n",
       "  </style>\n",
       "\n",
       "      <script>\n",
       "        const buttonEl =\n",
       "          document.querySelector('#df-49cbf66e-7e33-4672-b234-29224d1ab7e6 button.colab-df-convert');\n",
       "        buttonEl.style.display =\n",
       "          google.colab.kernel.accessAllowed ? 'block' : 'none';\n",
       "\n",
       "        async function convertToInteractive(key) {\n",
       "          const element = document.querySelector('#df-49cbf66e-7e33-4672-b234-29224d1ab7e6');\n",
       "          const dataTable =\n",
       "            await google.colab.kernel.invokeFunction('convertToInteractive',\n",
       "                                                     [key], {});\n",
       "          if (!dataTable) return;\n",
       "\n",
       "          const docLinkHtml = 'Like what you see? Visit the ' +\n",
       "            '<a target=\"_blank\" href=https://colab.research.google.com/notebooks/data_table.ipynb>data table notebook</a>'\n",
       "            + ' to learn more about interactive tables.';\n",
       "          element.innerHTML = '';\n",
       "          dataTable['output_type'] = 'display_data';\n",
       "          await google.colab.output.renderOutput(dataTable, element);\n",
       "          const docLink = document.createElement('div');\n",
       "          docLink.innerHTML = docLinkHtml;\n",
       "          element.appendChild(docLink);\n",
       "        }\n",
       "      </script>\n",
       "    </div>\n",
       "  </div>\n",
       "  "
      ],
      "text/plain": [
       "            Passengers\n",
       "Date                  \n",
       "1949-01-01         112\n",
       "1949-02-01         118\n",
       "1949-03-01         132\n",
       "1949-04-01         129\n",
       "1949-05-01         121"
      ]
     },
     "execution_count": 6,
     "metadata": {},
     "output_type": "execute_result"
    }
   ],
   "source": [
    "data.columns = ['Date', 'Passengers']\n",
    "data['Date'] = pd.to_datetime(data['Date'], format='%Y-%m')\n",
    "data = data.set_index('Date')\n",
    "data.head()"
   ]
  },
  {
   "cell_type": "code",
   "execution_count": null,
   "metadata": {
    "id": "NYPU3ree1uvV"
   },
   "outputs": [],
   "source": []
  },
  {
   "cell_type": "code",
   "execution_count": null,
   "metadata": {
    "colab": {
     "base_uri": "https://localhost:8080/",
     "height": 237
    },
    "executionInfo": {
     "elapsed": 51,
     "status": "ok",
     "timestamp": 1680874007069,
     "user": {
      "displayName": "SUYASH GUPTA",
      "userId": "03377751817151127999"
     },
     "user_tz": -330
    },
    "id": "dWoTf0nNvOCK",
    "outputId": "6938c529-127e-4f96-8ce6-7ba3f18bc19d"
   },
   "outputs": [
    {
     "data": {
      "text/html": [
       "\n",
       "  <div id=\"df-1c0dcea9-b91f-41be-bbee-538e84bac668\">\n",
       "    <div class=\"colab-df-container\">\n",
       "      <div>\n",
       "<style scoped>\n",
       "    .dataframe tbody tr th:only-of-type {\n",
       "        vertical-align: middle;\n",
       "    }\n",
       "\n",
       "    .dataframe tbody tr th {\n",
       "        vertical-align: top;\n",
       "    }\n",
       "\n",
       "    .dataframe thead th {\n",
       "        text-align: right;\n",
       "    }\n",
       "</style>\n",
       "<table border=\"1\" class=\"dataframe\">\n",
       "  <thead>\n",
       "    <tr style=\"text-align: right;\">\n",
       "      <th></th>\n",
       "      <th>Passengers</th>\n",
       "    </tr>\n",
       "    <tr>\n",
       "      <th>Date</th>\n",
       "      <th></th>\n",
       "    </tr>\n",
       "  </thead>\n",
       "  <tbody>\n",
       "    <tr>\n",
       "      <th>1949-01-01</th>\n",
       "      <td>0.015444</td>\n",
       "    </tr>\n",
       "    <tr>\n",
       "      <th>1949-02-01</th>\n",
       "      <td>0.027027</td>\n",
       "    </tr>\n",
       "    <tr>\n",
       "      <th>1949-03-01</th>\n",
       "      <td>0.054054</td>\n",
       "    </tr>\n",
       "    <tr>\n",
       "      <th>1949-04-01</th>\n",
       "      <td>0.048263</td>\n",
       "    </tr>\n",
       "    <tr>\n",
       "      <th>1949-05-01</th>\n",
       "      <td>0.032819</td>\n",
       "    </tr>\n",
       "  </tbody>\n",
       "</table>\n",
       "</div>\n",
       "      <button class=\"colab-df-convert\" onclick=\"convertToInteractive('df-1c0dcea9-b91f-41be-bbee-538e84bac668')\"\n",
       "              title=\"Convert this dataframe to an interactive table.\"\n",
       "              style=\"display:none;\">\n",
       "        \n",
       "  <svg xmlns=\"http://www.w3.org/2000/svg\" height=\"24px\"viewBox=\"0 0 24 24\"\n",
       "       width=\"24px\">\n",
       "    <path d=\"M0 0h24v24H0V0z\" fill=\"none\"/>\n",
       "    <path d=\"M18.56 5.44l.94 2.06.94-2.06 2.06-.94-2.06-.94-.94-2.06-.94 2.06-2.06.94zm-11 1L8.5 8.5l.94-2.06 2.06-.94-2.06-.94L8.5 2.5l-.94 2.06-2.06.94zm10 10l.94 2.06.94-2.06 2.06-.94-2.06-.94-.94-2.06-.94 2.06-2.06.94z\"/><path d=\"M17.41 7.96l-1.37-1.37c-.4-.4-.92-.59-1.43-.59-.52 0-1.04.2-1.43.59L10.3 9.45l-7.72 7.72c-.78.78-.78 2.05 0 2.83L4 21.41c.39.39.9.59 1.41.59.51 0 1.02-.2 1.41-.59l7.78-7.78 2.81-2.81c.8-.78.8-2.07 0-2.86zM5.41 20L4 18.59l7.72-7.72 1.47 1.35L5.41 20z\"/>\n",
       "  </svg>\n",
       "      </button>\n",
       "      \n",
       "  <style>\n",
       "    .colab-df-container {\n",
       "      display:flex;\n",
       "      flex-wrap:wrap;\n",
       "      gap: 12px;\n",
       "    }\n",
       "\n",
       "    .colab-df-convert {\n",
       "      background-color: #E8F0FE;\n",
       "      border: none;\n",
       "      border-radius: 50%;\n",
       "      cursor: pointer;\n",
       "      display: none;\n",
       "      fill: #1967D2;\n",
       "      height: 32px;\n",
       "      padding: 0 0 0 0;\n",
       "      width: 32px;\n",
       "    }\n",
       "\n",
       "    .colab-df-convert:hover {\n",
       "      background-color: #E2EBFA;\n",
       "      box-shadow: 0px 1px 2px rgba(60, 64, 67, 0.3), 0px 1px 3px 1px rgba(60, 64, 67, 0.15);\n",
       "      fill: #174EA6;\n",
       "    }\n",
       "\n",
       "    [theme=dark] .colab-df-convert {\n",
       "      background-color: #3B4455;\n",
       "      fill: #D2E3FC;\n",
       "    }\n",
       "\n",
       "    [theme=dark] .colab-df-convert:hover {\n",
       "      background-color: #434B5C;\n",
       "      box-shadow: 0px 1px 3px 1px rgba(0, 0, 0, 0.15);\n",
       "      filter: drop-shadow(0px 1px 2px rgba(0, 0, 0, 0.3));\n",
       "      fill: #FFFFFF;\n",
       "    }\n",
       "  </style>\n",
       "\n",
       "      <script>\n",
       "        const buttonEl =\n",
       "          document.querySelector('#df-1c0dcea9-b91f-41be-bbee-538e84bac668 button.colab-df-convert');\n",
       "        buttonEl.style.display =\n",
       "          google.colab.kernel.accessAllowed ? 'block' : 'none';\n",
       "\n",
       "        async function convertToInteractive(key) {\n",
       "          const element = document.querySelector('#df-1c0dcea9-b91f-41be-bbee-538e84bac668');\n",
       "          const dataTable =\n",
       "            await google.colab.kernel.invokeFunction('convertToInteractive',\n",
       "                                                     [key], {});\n",
       "          if (!dataTable) return;\n",
       "\n",
       "          const docLinkHtml = 'Like what you see? Visit the ' +\n",
       "            '<a target=\"_blank\" href=https://colab.research.google.com/notebooks/data_table.ipynb>data table notebook</a>'\n",
       "            + ' to learn more about interactive tables.';\n",
       "          element.innerHTML = '';\n",
       "          dataTable['output_type'] = 'display_data';\n",
       "          await google.colab.output.renderOutput(dataTable, element);\n",
       "          const docLink = document.createElement('div');\n",
       "          docLink.innerHTML = docLinkHtml;\n",
       "          element.appendChild(docLink);\n",
       "        }\n",
       "      </script>\n",
       "    </div>\n",
       "  </div>\n",
       "  "
      ],
      "text/plain": [
       "            Passengers\n",
       "Date                  \n",
       "1949-01-01    0.015444\n",
       "1949-02-01    0.027027\n",
       "1949-03-01    0.054054\n",
       "1949-04-01    0.048263\n",
       "1949-05-01    0.032819"
      ]
     },
     "execution_count": 7,
     "metadata": {},
     "output_type": "execute_result"
    }
   ],
   "source": [
    "scaler = sklearn.preprocessing.MinMaxScaler(feature_range=(0,1))\n",
    "data[['Passengers']] = scaler.fit_transform(data[['Passengers']])\n",
    "data.head()"
   ]
  },
  {
   "cell_type": "code",
   "execution_count": null,
   "metadata": {
    "colab": {
     "base_uri": "https://localhost:8080/",
     "height": 430
    },
    "executionInfo": {
     "elapsed": 1388,
     "status": "ok",
     "timestamp": 1680874008408,
     "user": {
      "displayName": "SUYASH GUPTA",
      "userId": "03377751817151127999"
     },
     "user_tz": -330
    },
    "id": "3cANj9TjvZlP",
    "outputId": "124dcc7a-fd10-4515-876a-81d140fa3a73"
   },
   "outputs": [
    {
     "data": {
      "image/png": "[encoded data removed]",
      "text/plain": [
       "<Figure size 640x480 with 1 Axes>"
      ]
     },
     "metadata": {},
     "output_type": "display_data"
    }
   ],
   "source": [
    "plt.plot(data, color='black')\n",
    "plt.show()"
   ]
  },
  {
   "cell_type": "code",
   "execution_count": null,
   "metadata": {
    "colab": {
     "base_uri": "https://localhost:8080/",
     "height": 430
    },
    "executionInfo": {
     "elapsed": 15,
     "status": "ok",
     "timestamp": 1680874008409,
     "user": {
      "displayName": "SUYASH GUPTA",
      "userId": "03377751817151127999"
     },
     "user_tz": -330
    },
    "id": "DRRKYHF-vjg9",
    "outputId": "d5b9c50d-dadd-4cf8-8109-64d9aaba64e0"
   },
   "outputs": [
    {
     "data": {
      "image/png": "[encoded data removed]",
      "text/plain": [
       "<Figure size 640x480 with 1 Axes>"
      ]
     },
     "metadata": {},
     "output_type": "display_data"
    }
   ],
   "source": [
    "plt.plot(data, color='black')\n",
    "plt.show()"
   ]
  },
  {
   "cell_type": "code",
   "execution_count": null,
   "metadata": {
    "id": "CA6vrX4vvnpd"
   },
   "outputs": [],
   "source": [
    "def load_data(data, seq_len):\n",
    "    x = []\n",
    "    y = []\n",
    "    for i in range(seq_len, len(data)):\n",
    "        x.append(data.iloc[i-seq_len : i, 0])\n",
    "        y.append(data.iloc[i, 0])\n",
    "    return x,y"
   ]
  },
  {
   "cell_type": "code",
   "execution_count": null,
   "metadata": {
    "id": "699hr6dpvqvZ"
   },
   "outputs": [],
   "source": [
    "x, y = load_data(data, 20)"
   ]
  },
  {
   "cell_type": "code",
   "execution_count": null,
   "metadata": {
    "colab": {
     "base_uri": "https://localhost:8080/"
    },
    "executionInfo": {
     "elapsed": 54,
     "status": "ok",
     "timestamp": 1680874009502,
     "user": {
      "displayName": "SUYASH GUPTA",
      "userId": "03377751817151127999"
     },
     "user_tz": -330
    },
    "id": "fTh17I5Iv01c",
    "outputId": "85a7407a-2d4a-4425-a44d-30c9974db32a"
   },
   "outputs": [
    {
     "data": {
      "text/plain": [
       "(144, 1)"
      ]
     },
     "execution_count": 12,
     "metadata": {},
     "output_type": "execute_result"
    }
   ],
   "source": [
    "data.shape"
   ]
  },
  {
   "cell_type": "code",
   "execution_count": null,
   "metadata": {
    "colab": {
     "base_uri": "https://localhost:8080/"
    },
    "executionInfo": {
     "elapsed": 50,
     "status": "ok",
     "timestamp": 1680874009504,
     "user": {
      "displayName": "SUYASH GUPTA",
      "userId": "03377751817151127999"
     },
     "user_tz": -330
    },
    "id": "PhMTrx8Pv3XD",
    "outputId": "edf418e2-cca5-464c-cef7-61a3a74d3d81"
   },
   "outputs": [
    {
     "data": {
      "text/plain": [
       "115"
      ]
     },
     "execution_count": 13,
     "metadata": {},
     "output_type": "execute_result"
    }
   ],
   "source": [
    "num = int(len(data['Passengers'])*0.8)\n",
    "num"
   ]
  },
  {
   "cell_type": "code",
   "execution_count": null,
   "metadata": {
    "id": "kQQBL9DHv6s-"
   },
   "outputs": [],
   "source": [
    "x_train = x[:num]\n",
    "y_train = y[:num]\n",
    "x_test = x[num:]\n",
    "y_test = y[num:]"
   ]
  },
  {
   "cell_type": "code",
   "execution_count": null,
   "metadata": {
    "id": "dUPvMvBnv93b"
   },
   "outputs": [],
   "source": [
    "x_train = np.array(x_train)\n",
    "y_train = np.array(y_train)\n",
    "x_test = np.array(x_test)\n",
    "y_test = np.array(y_test)"
   ]
  },
  {
   "cell_type": "code",
   "execution_count": null,
   "metadata": {
    "id": "OVsG5wlTwAb7"
   },
   "outputs": [],
   "source": [
    "x_train = np.reshape(x_train, (num, 20, 1))\n",
    "x_test = np.reshape(x_test, (x_test.shape[0], 20, 1))"
   ]
  },
  {
   "cell_type": "code",
   "execution_count": null,
   "metadata": {
    "colab": {
     "base_uri": "https://localhost:8080/"
    },
    "executionInfo": {
     "elapsed": 45,
     "status": "ok",
     "timestamp": 1680874009506,
     "user": {
      "displayName": "SUYASH GUPTA",
      "userId": "03377751817151127999"
     },
     "user_tz": -330
    },
    "id": "StjvzXWewDRZ",
    "outputId": "740c65ed-b88f-47bf-8470-13a211e8d37d"
   },
   "outputs": [
    {
     "name": "stdout",
     "output_type": "stream",
     "text": [
      "x_train.shape =  (115, 20, 1)\n",
      "y_train.shape =  (115,)\n",
      "x_test.shape =  (9, 20, 1)\n",
      "y_test.shape =  (9,)\n"
     ]
    }
   ],
   "source": [
    "print('x_train.shape = ',x_train.shape)\n",
    "print('y_train.shape = ', y_train.shape)\n",
    "print('x_test.shape = ', x_test.shape)\n",
    "print('y_test.shape = ',y_test.shape)"
   ]
  },
  {
   "cell_type": "markdown",
   "metadata": {
    "id": "uJejCoWgwJPn"
   },
   "source": [
    "RNN Model"
   ]
  },
  {
   "cell_type": "code",
   "execution_count": null,
   "metadata": {
    "colab": {
     "base_uri": "https://localhost:8080/"
    },
    "executionInfo": {
     "elapsed": 40,
     "status": "ok",
     "timestamp": 1680874009507,
     "user": {
      "displayName": "SUYASH GUPTA",
      "userId": "03377751817151127999"
     },
     "user_tz": -330
    },
    "id": "ZMr3ZdzgwOY7",
    "outputId": "d11afb53-0f5d-44b9-89f1-74cde2f80319"
   },
   "outputs": [
    {
     "name": "stdout",
     "output_type": "stream",
     "text": [
      "Model: \"sequential\"\n",
      "_________________________________________________________________\n",
      " Layer (type)                Output Shape              Param #   \n",
      "=================================================================\n",
      " simple_rnn (SimpleRNN)      (None, 20, 40)            1680      \n",
      "                                                                 \n",
      " dropout (Dropout)           (None, 20, 40)            0         \n",
      "                                                                 \n",
      " simple_rnn_1 (SimpleRNN)    (None, 20, 50)            4550      \n",
      "                                                                 \n",
      " dropout_1 (Dropout)         (None, 20, 50)            0         \n",
      "                                                                 \n",
      " simple_rnn_2 (SimpleRNN)    (None, 10)                610       \n",
      "                                                                 \n",
      " dropout_2 (Dropout)         (None, 10)                0         \n",
      "                                                                 \n",
      " dense (Dense)               (None, 1)                 11        \n",
      "                                                                 \n",
      "=================================================================\n",
      "Total params: 6,851\n",
      "Trainable params: 6,851\n",
      "Non-trainable params: 0\n",
      "_________________________________________________________________\n"
     ]
    }
   ],
   "source": [
    "rnnModel = Sequential()\n",
    "rnnModel.add(SimpleRNN(40, activation=\"selu\", return_sequences=True, input_shape=(x_train.shape[1],1)))\n",
    "rnnModel.add(Dropout(0.15))\n",
    "rnnModel.add(SimpleRNN(50, return_sequences=True, activation=\"selu\"))\n",
    "rnnModel.add(Dropout(0.1))\n",
    "rnnModel.add(SimpleRNN(10, activation=\"selu\"))\n",
    "rnnModel.add(Dropout(0.2))\n",
    "rnnModel.add(Dense(1))\n",
    "rnnModel.summary()"
   ]
  },
  {
   "cell_type": "code",
   "execution_count": null,
   "metadata": {
    "colab": {
     "base_uri": "https://localhost:8080/"
    },
    "executionInfo": {
     "elapsed": 8697,
     "status": "ok",
     "timestamp": 1680874018188,
     "user": {
      "displayName": "SUYASH GUPTA",
      "userId": "03377751817151127999"
     },
     "user_tz": -330
    },
    "id": "DB8ylU-owPZA",
    "outputId": "58b0eceb-cbd3-405b-b4d4-950c175a9bda"
   },
   "outputs": [
    {
     "name": "stdout",
     "output_type": "stream",
     "text": [
      "Epoch 1/15\n",
      "3/3 [==============================] - 6s 26ms/step - loss: 2.7016\n",
      "Epoch 2/15\n",
      "3/3 [==============================] - 0s 29ms/step - loss: 1.4748\n",
      "Epoch 3/15\n",
      "3/3 [==============================] - 0s 20ms/step - loss: 1.2511\n",
      "Epoch 4/15\n",
      "3/3 [==============================] - 0s 21ms/step - loss: 1.3987\n",
      "Epoch 5/15\n",
      "3/3 [==============================] - 0s 20ms/step - loss: 1.0405\n",
      "Epoch 6/15\n",
      "3/3 [==============================] - 0s 20ms/step - loss: 1.1501\n",
      "Epoch 7/15\n",
      "3/3 [==============================] - 0s 22ms/step - loss: 1.0759\n",
      "Epoch 8/15\n",
      "3/3 [==============================] - 0s 19ms/step - loss: 0.8278\n",
      "Epoch 9/15\n",
      "3/3 [==============================] - 0s 19ms/step - loss: 0.9537\n",
      "Epoch 10/15\n",
      "3/3 [==============================] - 0s 23ms/step - loss: 1.1240\n",
      "Epoch 11/15\n",
      "3/3 [==============================] - 0s 19ms/step - loss: 0.9785\n",
      "Epoch 12/15\n",
      "3/3 [==============================] - 0s 20ms/step - loss: 1.0020\n",
      "Epoch 13/15\n",
      "3/3 [==============================] - 0s 19ms/step - loss: 0.6884\n",
      "Epoch 14/15\n",
      "3/3 [==============================] - 0s 19ms/step - loss: 0.7924\n",
      "Epoch 15/15\n",
      "3/3 [==============================] - 0s 22ms/step - loss: 0.7152\n"
     ]
    },
    {
     "data": {
      "text/plain": [
       "<keras.callbacks.History at 0x7f0453417f10>"
      ]
     },
     "execution_count": 19,
     "metadata": {},
     "output_type": "execute_result"
    }
   ],
   "source": [
    "rnnModel.compile(optimizer=\"adam\", loss=\"MSE\")\n",
    "rnnModel.fit(x_train, y_train, epochs=15, batch_size=50)"
   ]
  },
  {
   "cell_type": "code",
   "execution_count": null,
   "metadata": {
    "colab": {
     "base_uri": "https://localhost:8080/"
    },
    "executionInfo": {
     "elapsed": 1135,
     "status": "ok",
     "timestamp": 1680874019300,
     "user": {
      "displayName": "SUYASH GUPTA",
      "userId": "03377751817151127999"
     },
     "user_tz": -330
    },
    "id": "wKOQNe29wTG4",
    "outputId": "4527b0ae-2365-4b02-d29a-6ab698beb9aa"
   },
   "outputs": [
    {
     "name": "stdout",
     "output_type": "stream",
     "text": [
      "1/1 [==============================] - 0s 410ms/step\n",
      "R2 Score :  -4.1818250718645436\n"
     ]
    }
   ],
   "source": [
    "rnnPredict = rnnModel.predict(x_test)\n",
    "rnnScore = r2_score(y_test, rnnPredict)\n",
    "print(\"R2 Score : \", rnnScore)"
   ]
  },
  {
   "cell_type": "code",
   "execution_count": null,
   "metadata": {
    "id": "0hDbpMbWwW-1"
   },
   "outputs": [],
   "source": [
    "def plot_predictions(test, predicted, title, x):\n",
    "    plt.figure(figsize=(16,4))\n",
    "    plt.plot(x ,test, color='blue',label='Actual')\n",
    "    plt.plot(x ,predicted, alpha=0.7, color='red',label='Predict')\n",
    "    plt.title(title)\n",
    "    plt.xlabel('Date')\n",
    "    plt.ylabel('Passengers')\n",
    "    plt.legend()\n",
    "    plt.show()"
   ]
  },
  {
   "cell_type": "code",
   "execution_count": null,
   "metadata": {
    "colab": {
     "base_uri": "https://localhost:8080/",
     "height": 364
    },
    "executionInfo": {
     "elapsed": 17,
     "status": "ok",
     "timestamp": 1680874019304,
     "user": {
      "displayName": "SUYASH GUPTA",
      "userId": "03377751817151127999"
     },
     "user_tz": -330
    },
    "id": "fNM7fUyNwZ1V",
    "outputId": "bb749c86-3c9f-4fdb-8c95-0e1c08d6cc4d"
   },
   "outputs": [
    {
     "data": {
      "image/png": "[encoded data removed]",
      "text/plain": [
       "<Figure size 1600x400 with 1 Axes>"
      ]
     },
     "metadata": {},
     "output_type": "display_data"
    }
   ],
   "source": [
    "plot_predictions(y_test, rnnPredict, \"RNN Model\", data.index[-9:])"
   ]
  },
  {
   "cell_type": "code",
   "execution_count": null,
   "metadata": {
    "id": "XKCQX9nYwc_b"
   },
   "outputs": [],
   "source": []
  },
  {
   "cell_type": "markdown",
   "metadata": {
    "id": "fiw3o0dE3Fej"
   },
   "source": [
    "LSTM\n"
   ]
  },
  {
   "cell_type": "code",
   "execution_count": null,
   "metadata": {
    "colab": {
     "base_uri": "https://localhost:8080/"
    },
    "executionInfo": {
     "elapsed": 1360,
     "status": "ok",
     "timestamp": 1680874059253,
     "user": {
      "displayName": "SUYASH GUPTA",
      "userId": "03377751817151127999"
     },
     "user_tz": -330
    },
    "id": "_vchDsa13Hsx",
    "outputId": "c4f48c82-832a-45b4-bb15-0c2c466d6609"
   },
   "outputs": [
    {
     "name": "stdout",
     "output_type": "stream",
     "text": [
      "Model: \"sequential_2\"\n",
      "_________________________________________________________________\n",
      " Layer (type)                Output Shape              Param #   \n",
      "=================================================================\n",
      " lstm_3 (LSTM)               (None, 20, 40)            6720      \n",
      "                                                                 \n",
      " dropout_5 (Dropout)         (None, 20, 40)            0         \n",
      "                                                                 \n",
      " lstm_4 (LSTM)               (None, 20, 20)            4880      \n",
      "                                                                 \n",
      " dropout_6 (Dropout)         (None, 20, 20)            0         \n",
      "                                                                 \n",
      " lstm_5 (LSTM)               (None, 10)                1240      \n",
      "                                                                 \n",
      " dropout_7 (Dropout)         (None, 10)                0         \n",
      "                                                                 \n",
      " dense_1 (Dense)             (None, 1)                 11        \n",
      "                                                                 \n",
      "=================================================================\n",
      "Total params: 12,851\n",
      "Trainable params: 12,851\n",
      "Non-trainable params: 0\n",
      "_________________________________________________________________\n"
     ]
    }
   ],
   "source": [
    "rnnModel = Sequential()\n",
    "rnnModel.add(LSTM(40, activation=\"selu\", return_sequences=True, input_shape=(x_train.shape[1],1)))\n",
    "rnnModel.add(Dropout(0.15))\n",
    "rnnModel.add(LSTM(20, return_sequences=True, activation=\"selu\"))\n",
    "rnnModel.add(Dropout(0.1))\n",
    "rnnModel.add(LSTM(10, activation=\"tanh\"))\n",
    "rnnModel.add(Dropout(0.2))\n",
    "rnnModel.add(Dense(1))\n",
    "rnnModel.summary()"
   ]
  },
  {
   "cell_type": "code",
   "execution_count": null,
   "metadata": {
    "colab": {
     "base_uri": "https://localhost:8080/"
    },
    "executionInfo": {
     "elapsed": 15904,
     "status": "ok",
     "timestamp": 1680874080058,
     "user": {
      "displayName": "SUYASH GUPTA",
      "userId": "03377751817151127999"
     },
     "user_tz": -330
    },
    "id": "evCa-CUP3fZo",
    "outputId": "f20364b0-224b-49f6-a6e6-ecf250edf4cc"
   },
   "outputs": [
    {
     "name": "stdout",
     "output_type": "stream",
     "text": [
      "Epoch 1/15\n",
      "3/3 [==============================] - 12s 87ms/step - loss: 0.2326\n",
      "Epoch 2/15\n",
      "3/3 [==============================] - 0s 97ms/step - loss: 0.0704\n",
      "Epoch 3/15\n",
      "3/3 [==============================] - 0s 80ms/step - loss: 0.0321\n",
      "Epoch 4/15\n",
      "3/3 [==============================] - 0s 66ms/step - loss: 0.0402\n",
      "Epoch 5/15\n",
      "3/3 [==============================] - 0s 100ms/step - loss: 0.0326\n",
      "Epoch 6/15\n",
      "3/3 [==============================] - 0s 64ms/step - loss: 0.0219\n",
      "Epoch 7/15\n",
      "3/3 [==============================] - 0s 69ms/step - loss: 0.0267\n",
      "Epoch 8/15\n",
      "3/3 [==============================] - 0s 67ms/step - loss: 0.0251\n",
      "Epoch 9/15\n",
      "3/3 [==============================] - 0s 72ms/step - loss: 0.0180\n",
      "Epoch 10/15\n",
      "3/3 [==============================] - 0s 111ms/step - loss: 0.0207\n",
      "Epoch 11/15\n",
      "3/3 [==============================] - 0s 99ms/step - loss: 0.0111\n",
      "Epoch 12/15\n",
      "3/3 [==============================] - 0s 88ms/step - loss: 0.0146\n",
      "Epoch 13/15\n",
      "3/3 [==============================] - 0s 77ms/step - loss: 0.0165\n",
      "Epoch 14/15\n",
      "3/3 [==============================] - 0s 65ms/step - loss: 0.0153\n",
      "Epoch 15/15\n",
      "3/3 [==============================] - 0s 97ms/step - loss: 0.0147\n"
     ]
    },
    {
     "data": {
      "text/plain": [
       "<keras.callbacks.History at 0x7f0453d1ff40>"
      ]
     },
     "execution_count": 25,
     "metadata": {},
     "output_type": "execute_result"
    }
   ],
   "source": [
    "rnnModel.compile(optimizer=\"adam\", loss=\"MSE\")\n",
    "rnnModel.fit(x_train, y_train, epochs=15, batch_size=50)"
   ]
  },
  {
   "cell_type": "code",
   "execution_count": null,
   "metadata": {
    "colab": {
     "base_uri": "https://localhost:8080/"
    },
    "executionInfo": {
     "elapsed": 2640,
     "status": "ok",
     "timestamp": 1680874082689,
     "user": {
      "displayName": "SUYASH GUPTA",
      "userId": "03377751817151127999"
     },
     "user_tz": -330
    },
    "id": "0QieVN-R3loO",
    "outputId": "8adf8255-b3c3-4536-a137-6b5acdad217d"
   },
   "outputs": [
    {
     "name": "stdout",
     "output_type": "stream",
     "text": [
      "1/1 [==============================] - 1s 1s/step\n",
      "R2 Score :  -0.5330583192975045\n"
     ]
    }
   ],
   "source": [
    "rnnPredict = rnnModel.predict(x_test)\n",
    "rnnScore = r2_score(y_test, rnnPredict)\n",
    "print(\"R2 Score : \", rnnScore)"
   ]
  },
  {
   "cell_type": "code",
   "execution_count": null,
   "metadata": {
    "id": "HCNtRpux3srE"
   },
   "outputs": [],
   "source": [
    "def plot_predictions(test, predicted, title, x):\n",
    "    plt.figure(figsize=(16,4))\n",
    "    plt.plot(x ,test, color='blue',label='Actual')\n",
    "    plt.plot(x ,predicted, alpha=0.7, color='red',label='Predict')\n",
    "    plt.title(title)\n",
    "    plt.xlabel('Date')\n",
    "    plt.ylabel('Passengers')\n",
    "    plt.legend()\n",
    "    plt.show()"
   ]
  },
  {
   "cell_type": "code",
   "execution_count": null,
   "metadata": {
    "colab": {
     "base_uri": "https://localhost:8080/",
     "height": 430
    },
    "executionInfo": {
     "elapsed": 72,
     "status": "ok",
     "timestamp": 1680874082702,
     "user": {
      "displayName": "SUYASH GUPTA",
      "userId": "03377751817151127999"
     },
     "user_tz": -330
    },
    "id": "WpviMC0r3w_w",
    "outputId": "bc0c41dd-b090-4664-fd06-5141070b219c"
   },
   "outputs": [
    {
     "data": {
      "image/png": "[encoded data removed]",
      "text/plain": [
       "<Figure size 1600x400 with 1 Axes>"
      ]
     },
     "metadata": {},
     "output_type": "display_data"
    }
   ],
   "source": [
    "plot_predictions(y_test, rnnPredict, \"LSTM Model\", data.index[-9:])"
   ]
  },
  {
   "cell_type": "markdown",
   "metadata": {
    "id": "PrzHuz-h6GaL"
   },
   "source": [
    "GRU"
   ]
  },
  {
   "cell_type": "code",
   "execution_count": null,
   "metadata": {
    "colab": {
     "base_uri": "https://localhost:8080/"
    },
    "executionInfo": {
     "elapsed": 681,
     "status": "ok",
     "timestamp": 1680874288277,
     "user": {
      "displayName": "SUYASH GUPTA",
      "userId": "03377751817151127999"
     },
     "user_tz": -330
    },
    "id": "v4eRyLaQ310c",
    "outputId": "e2be4994-e45f-45db-f1b1-cf854c43e180"
   },
   "outputs": [
    {
     "name": "stdout",
     "output_type": "stream",
     "text": [
      "Model: \"sequential_5\"\n",
      "_________________________________________________________________\n",
      " Layer (type)                Output Shape              Param #   \n",
      "=================================================================\n",
      " gru (GRU)                   (None, 20, 40)            5160      \n",
      "                                                                 \n",
      " dropout_8 (Dropout)         (None, 20, 40)            0         \n",
      "                                                                 \n",
      " gru_1 (GRU)                 (None, 20, 20)            3720      \n",
      "                                                                 \n",
      " dropout_9 (Dropout)         (None, 20, 20)            0         \n",
      "                                                                 \n",
      " gru_2 (GRU)                 (None, 10)                960       \n",
      "                                                                 \n",
      " dropout_10 (Dropout)        (None, 10)                0         \n",
      "                                                                 \n",
      " dense_2 (Dense)             (None, 1)                 11        \n",
      "                                                                 \n",
      "=================================================================\n",
      "Total params: 9,851\n",
      "Trainable params: 9,851\n",
      "Non-trainable params: 0\n",
      "_________________________________________________________________\n"
     ]
    }
   ],
   "source": [
    "rnnModel = Sequential()\n",
    "rnnModel.add(GRU(40, activation=\"selu\", return_sequences=True, input_shape=(x_train.shape[1],1)))\n",
    "rnnModel.add(Dropout(0.15))\n",
    "rnnModel.add(GRU(20, return_sequences=True, activation=\"selu\"))\n",
    "rnnModel.add(Dropout(0.1))\n",
    "rnnModel.add(GRU(10, activation=\"tanh\"))\n",
    "rnnModel.add(Dropout(0.2))\n",
    "rnnModel.add(Dense(1))\n",
    "rnnModel.summary()"
   ]
  },
  {
   "cell_type": "code",
   "execution_count": null,
   "metadata": {
    "colab": {
     "base_uri": "https://localhost:8080/"
    },
    "executionInfo": {
     "elapsed": 11311,
     "status": "ok",
     "timestamp": 1680874303599,
     "user": {
      "displayName": "SUYASH GUPTA",
      "userId": "03377751817151127999"
     },
     "user_tz": -330
    },
    "id": "ssy_Ekyl6PMM",
    "outputId": "6b9b3142-0891-4d2e-93fe-ee0bc6050a12"
   },
   "outputs": [
    {
     "name": "stdout",
     "output_type": "stream",
     "text": [
      "Epoch 1/15\n",
      "3/3 [==============================] - 8s 70ms/step - loss: 0.1471\n",
      "Epoch 2/15\n",
      "3/3 [==============================] - 0s 59ms/step - loss: 0.0561\n",
      "Epoch 3/15\n",
      "3/3 [==============================] - 0s 66ms/step - loss: 0.0373\n",
      "Epoch 4/15\n",
      "3/3 [==============================] - 0s 62ms/step - loss: 0.0407\n",
      "Epoch 5/15\n",
      "3/3 [==============================] - 0s 61ms/step - loss: 0.0290\n",
      "Epoch 6/15\n",
      "3/3 [==============================] - 0s 63ms/step - loss: 0.0324\n",
      "Epoch 7/15\n",
      "3/3 [==============================] - 0s 59ms/step - loss: 0.0251\n",
      "Epoch 8/15\n",
      "3/3 [==============================] - 0s 58ms/step - loss: 0.0284\n",
      "Epoch 9/15\n",
      "3/3 [==============================] - 0s 62ms/step - loss: 0.0236\n",
      "Epoch 10/15\n",
      "3/3 [==============================] - 0s 59ms/step - loss: 0.0262\n",
      "Epoch 11/15\n",
      "3/3 [==============================] - 0s 63ms/step - loss: 0.0189\n",
      "Epoch 12/15\n",
      "3/3 [==============================] - 0s 63ms/step - loss: 0.0160\n",
      "Epoch 13/15\n",
      "3/3 [==============================] - 0s 69ms/step - loss: 0.0189\n",
      "Epoch 14/15\n",
      "3/3 [==============================] - 0s 112ms/step - loss: 0.0211\n",
      "Epoch 15/15\n",
      "3/3 [==============================] - 0s 73ms/step - loss: 0.0167\n"
     ]
    },
    {
     "data": {
      "text/plain": [
       "<keras.callbacks.History at 0x7f04532a1490>"
      ]
     },
     "execution_count": 33,
     "metadata": {},
     "output_type": "execute_result"
    }
   ],
   "source": [
    "rnnModel.compile(optimizer=\"adam\", loss=\"MSE\")\n",
    "rnnModel.fit(x_train, y_train, epochs=15, batch_size=50)"
   ]
  },
  {
   "cell_type": "code",
   "execution_count": null,
   "metadata": {
    "id": "UMegZVqj6j3w"
   },
   "outputs": [],
   "source": [
    "def plot_predictions(test, predicted, title, x):\n",
    "    plt.figure(figsize=(16,4))\n",
    "    plt.plot(x ,test, color='blue',label='Actual')\n",
    "    plt.plot(x ,predicted, alpha=0.7, color='red',label='Predict')\n",
    "    plt.title(title)\n",
    "    plt.xlabel('Date')\n",
    "    plt.ylabel('Passengers')\n",
    "    plt.legend()\n",
    "    plt.show()"
   ]
  },
  {
   "cell_type": "code",
   "execution_count": null,
   "metadata": {
    "colab": {
     "base_uri": "https://localhost:8080/",
     "height": 364
    },
    "executionInfo": {
     "elapsed": 1698,
     "status": "ok",
     "timestamp": 1680874321706,
     "user": {
      "displayName": "SUYASH GUPTA",
      "userId": "03377751817151127999"
     },
     "user_tz": -330
    },
    "id": "fdROqHkr6nJ2",
    "outputId": "d118c289-3e7d-4d97-8cd4-e461cfc9e418"
   },
   "outputs": [
    {
     "data": {
      "image/png": "[encoded data removed]",
      "text/plain": [
       "<Figure size 1600x400 with 1 Axes>"
      ]
     },
     "metadata": {},
     "output_type": "display_data"
    }
   ],
   "source": [
    "plot_predictions(y_test, rnnPredict, \"GRU Model\", data.index[-9:])"
   ]
  }
 ],
 "metadata": {
  "colab": {
   "authorship_tag": "ABX9TyMcbet5iEAxDop/1AqKOTAl",
   "provenance": []
  },
  "kernelspec": {
   "display_name": "Python 3 (ipykernel)",
   "language": "python",
   "name": "python3"
  },
  "language_info": {
   "codemirror_mode": {
    "name": "ipython",
    "version": 3
   },
   "file_extension": ".py",
   "mimetype": "text/x-python",
   "name": "python",
   "nbconvert_exporter": "python",
   "pygments_lexer": "ipython3",
   "version": "3.9.16"
  }
 },
 "nbformat": 4,
 "nbformat_minor": 1
}
