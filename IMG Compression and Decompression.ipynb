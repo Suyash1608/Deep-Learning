{
 "cells": [
  {
   "cell_type": "markdown",
   "metadata": {
    "id": "adHKwKJAMX7M"
   },
   "source": [
    "# **Aim : Image Compression and Decompression using Autoencoder**"
   ]
  },
  {
   "cell_type": "code",
   "execution_count": null,
   "metadata": {
    "id": "pzx_H-YntNTz"
   },
   "outputs": [],
   "source": [
    "from keras.layers import Input, Dense, Conv2D, MaxPooling2D, UpSampling2D\n",
    "from keras.models import Model\n",
    "from keras.datasets import mnist\n",
    "import numpy as np\n",
    "import matplotlib.pyplot as plt"
   ]
  },
  {
   "cell_type": "code",
   "execution_count": null,
   "metadata": {
    "colab": {
     "base_uri": "https://localhost:8080/"
    },
    "executionInfo": {
     "elapsed": 18,
     "status": "ok",
     "timestamp": 1680854138398,
     "user": {
      "displayName": "SUYASH GUPTA",
      "userId": "03377751817151127999"
     },
     "user_tz": -330
    },
    "id": "S4WxlwRStps4",
    "outputId": "310ebb82-ca67-4b04-ed58-75f259d2e4f1"
   },
   "outputs": [
    {
     "name": "stdout",
     "output_type": "stream",
     "text": [
      "Downloading data from https://storage.googleapis.com/tensorflow/tf-keras-datasets/mnist.npz\n",
      "11490434/11490434 [==============================] - 0s 0us/step\n"
     ]
    }
   ],
   "source": [
    "(x_train, _), (x_test, _) = mnist.load_data()"
   ]
  },
  {
   "cell_type": "code",
   "execution_count": null,
   "metadata": {
    "id": "Nu9y_1CLtqWJ"
   },
   "outputs": [],
   "source": [
    "x_train = x_train.astype('float32') / 255.\n",
    "x_test = x_test.astype('float32') / 255."
   ]
  },
  {
   "cell_type": "code",
   "execution_count": null,
   "metadata": {
    "id": "MvUPFXL5tz4I"
   },
   "outputs": [],
   "source": [
    "x_train = np.reshape(x_train, (len(x_train), 28, 28, 1))\n",
    "x_test = np.reshape(x_test, (len(x_test), 28, 28, 1))"
   ]
  },
  {
   "cell_type": "code",
   "execution_count": null,
   "metadata": {
    "id": "-MwDUEkvueDT"
   },
   "outputs": [],
   "source": [
    "input_img = Input(shape=(28, 28, 1))"
   ]
  },
  {
   "cell_type": "code",
   "execution_count": null,
   "metadata": {
    "id": "iF8j3T66uino"
   },
   "outputs": [],
   "source": [
    "# Define the encoder layers\n",
    "x = Conv2D(16, (3, 3), activation='relu', padding='same')(input_img)\n",
    "x = MaxPooling2D((2, 2), padding='same')(x)\n",
    "x = Conv2D(8, (3, 3), activation='relu', padding='same')(x)\n",
    "x = MaxPooling2D((2, 2), padding='same')(x)\n",
    "x = Conv2D(8, (3, 3), activation='relu', padding='same')(x)\n",
    "encoded = MaxPooling2D((2, 2), padding='same')(x)"
   ]
  },
  {
   "cell_type": "code",
   "execution_count": null,
   "metadata": {
    "id": "UQuHyBQiupIs"
   },
   "outputs": [],
   "source": [
    "# Define the decoder layers\n",
    "x = Conv2D(8, (3, 3), activation='relu', padding='same')(encoded)\n",
    "x = UpSampling2D((2, 2))(x)\n",
    "x = Conv2D(8, (3, 3), activation='relu', padding='same')(x)\n",
    "x = UpSampling2D((2, 2))(x)\n",
    "x = Conv2D(16, (3, 3), activation='relu')(x)\n",
    "x = UpSampling2D((2, 2))(x)\n",
    "decoded = Conv2D(1, (3, 3), activation='sigmoid', padding='same')(x)"
   ]
  },
  {
   "cell_type": "code",
   "execution_count": null,
   "metadata": {
    "id": "ESlAe7M7usgG"
   },
   "outputs": [],
   "source": [
    "autoencoder = Model(input_img, decoded)"
   ]
  },
  {
   "cell_type": "code",
   "execution_count": null,
   "metadata": {
    "id": "x7OSoM1_u39B"
   },
   "outputs": [],
   "source": [
    "autoencoder.compile(optimizer='adam', loss='binary_crossentropy')"
   ]
  },
  {
   "cell_type": "code",
   "execution_count": null,
   "metadata": {
    "colab": {
     "base_uri": "https://localhost:8080/"
    },
    "executionInfo": {
     "elapsed": 3929603,
     "status": "ok",
     "timestamp": 1680858412604,
     "user": {
      "displayName": "SUYASH GUPTA",
      "userId": "03377751817151127999"
     },
     "user_tz": -330
    },
    "id": "jQHq-q1Tu7lG",
    "outputId": "789a6ace-2d64-47b9-ff7c-a522b62adf2e"
   },
   "outputs": [
    {
     "name": "stdout",
     "output_type": "stream",
     "text": [
      "Epoch 1/50\n",
      "469/469 [==============================] - 86s 174ms/step - loss: 0.2151 - val_loss: 0.1430\n",
      "Epoch 2/50\n",
      "469/469 [==============================] - 96s 205ms/step - loss: 0.1320 - val_loss: 0.1232\n",
      "Epoch 3/50\n",
      "469/469 [==============================] - 77s 163ms/step - loss: 0.1203 - val_loss: 0.1155\n",
      "Epoch 4/50\n",
      "469/469 [==============================] - 81s 172ms/step - loss: 0.1143 - val_loss: 0.1108\n",
      "Epoch 5/50\n",
      "469/469 [==============================] - 79s 168ms/step - loss: 0.1104 - val_loss: 0.1075\n",
      "Epoch 6/50\n",
      "469/469 [==============================] - 77s 163ms/step - loss: 0.1076 - val_loss: 0.1052\n",
      "Epoch 7/50\n",
      "469/469 [==============================] - 77s 164ms/step - loss: 0.1055 - val_loss: 0.1035\n",
      "Epoch 8/50\n",
      "469/469 [==============================] - 78s 166ms/step - loss: 0.1039 - val_loss: 0.1026\n",
      "Epoch 9/50\n",
      "469/469 [==============================] - 77s 165ms/step - loss: 0.1026 - val_loss: 0.1010\n",
      "Epoch 10/50\n",
      "469/469 [==============================] - 77s 163ms/step - loss: 0.1014 - val_loss: 0.1001\n",
      "Epoch 11/50\n",
      "469/469 [==============================] - 77s 164ms/step - loss: 0.1005 - val_loss: 0.0988\n",
      "Epoch 12/50\n",
      "469/469 [==============================] - 78s 166ms/step - loss: 0.0996 - val_loss: 0.0979\n",
      "Epoch 13/50\n",
      "469/469 [==============================] - 77s 164ms/step - loss: 0.0989 - val_loss: 0.0974\n",
      "Epoch 14/50\n",
      "469/469 [==============================] - 77s 163ms/step - loss: 0.0983 - val_loss: 0.0968\n",
      "Epoch 15/50\n",
      "469/469 [==============================] - 77s 163ms/step - loss: 0.0978 - val_loss: 0.0965\n",
      "Epoch 16/50\n",
      "469/469 [==============================] - 77s 164ms/step - loss: 0.0973 - val_loss: 0.0959\n",
      "Epoch 17/50\n",
      "469/469 [==============================] - 77s 164ms/step - loss: 0.0968 - val_loss: 0.0955\n",
      "Epoch 18/50\n",
      "469/469 [==============================] - 77s 165ms/step - loss: 0.0964 - val_loss: 0.0950\n",
      "Epoch 19/50\n",
      "469/469 [==============================] - 77s 164ms/step - loss: 0.0959 - val_loss: 0.0945\n",
      "Epoch 20/50\n",
      "469/469 [==============================] - 77s 164ms/step - loss: 0.0956 - val_loss: 0.0939\n",
      "Epoch 21/50\n",
      "469/469 [==============================] - 78s 166ms/step - loss: 0.0951 - val_loss: 0.0935\n",
      "Epoch 22/50\n",
      "469/469 [==============================] - 78s 166ms/step - loss: 0.0947 - val_loss: 0.0931\n",
      "Epoch 23/50\n",
      "469/469 [==============================] - 79s 169ms/step - loss: 0.0943 - val_loss: 0.0929\n",
      "Epoch 24/50\n",
      "469/469 [==============================] - 78s 167ms/step - loss: 0.0939 - val_loss: 0.0930\n",
      "Epoch 25/50\n",
      "469/469 [==============================] - 78s 167ms/step - loss: 0.0936 - val_loss: 0.0925\n",
      "Epoch 26/50\n",
      "469/469 [==============================] - 78s 167ms/step - loss: 0.0933 - val_loss: 0.0920\n",
      "Epoch 27/50\n",
      "469/469 [==============================] - 78s 166ms/step - loss: 0.0930 - val_loss: 0.0919\n",
      "Epoch 28/50\n",
      "469/469 [==============================] - 78s 166ms/step - loss: 0.0928 - val_loss: 0.0916\n",
      "Epoch 29/50\n",
      "469/469 [==============================] - 81s 173ms/step - loss: 0.0925 - val_loss: 0.0912\n",
      "Epoch 30/50\n",
      "469/469 [==============================] - 78s 167ms/step - loss: 0.0923 - val_loss: 0.0911\n",
      "Epoch 31/50\n",
      "469/469 [==============================] - 78s 167ms/step - loss: 0.0921 - val_loss: 0.0906\n",
      "Epoch 32/50\n",
      "469/469 [==============================] - 78s 166ms/step - loss: 0.0919 - val_loss: 0.0906\n",
      "Epoch 33/50\n",
      "469/469 [==============================] - 77s 165ms/step - loss: 0.0917 - val_loss: 0.0903\n",
      "Epoch 34/50\n",
      "469/469 [==============================] - 77s 165ms/step - loss: 0.0915 - val_loss: 0.0902\n",
      "Epoch 35/50\n",
      "469/469 [==============================] - 78s 166ms/step - loss: 0.0913 - val_loss: 0.0900\n",
      "Epoch 36/50\n",
      "469/469 [==============================] - 78s 167ms/step - loss: 0.0911 - val_loss: 0.0901\n",
      "Epoch 37/50\n",
      "469/469 [==============================] - 78s 166ms/step - loss: 0.0910 - val_loss: 0.0900\n",
      "Epoch 38/50\n",
      "469/469 [==============================] - 78s 167ms/step - loss: 0.0908 - val_loss: 0.0895\n",
      "Epoch 39/50\n",
      "469/469 [==============================] - 78s 166ms/step - loss: 0.0906 - val_loss: 0.0894\n",
      "Epoch 40/50\n",
      "469/469 [==============================] - 78s 167ms/step - loss: 0.0905 - val_loss: 0.0905\n",
      "Epoch 41/50\n",
      "469/469 [==============================] - 80s 170ms/step - loss: 0.0904 - val_loss: 0.0891\n",
      "Epoch 42/50\n",
      "469/469 [==============================] - 78s 167ms/step - loss: 0.0903 - val_loss: 0.0889\n",
      "Epoch 43/50\n",
      "469/469 [==============================] - 78s 165ms/step - loss: 0.0901 - val_loss: 0.0888\n",
      "Epoch 44/50\n",
      "469/469 [==============================] - 78s 165ms/step - loss: 0.0900 - val_loss: 0.0887\n",
      "Epoch 45/50\n",
      "469/469 [==============================] - 80s 170ms/step - loss: 0.0899 - val_loss: 0.0892\n",
      "Epoch 46/50\n",
      "469/469 [==============================] - 77s 165ms/step - loss: 0.0898 - val_loss: 0.0885\n",
      "Epoch 47/50\n",
      "469/469 [==============================] - 78s 166ms/step - loss: 0.0897 - val_loss: 0.0883\n",
      "Epoch 48/50\n",
      "469/469 [==============================] - 77s 165ms/step - loss: 0.0896 - val_loss: 0.0883\n",
      "Epoch 49/50\n",
      "469/469 [==============================] - 78s 166ms/step - loss: 0.0895 - val_loss: 0.0884\n",
      "Epoch 50/50\n",
      "469/469 [==============================] - 78s 165ms/step - loss: 0.0894 - val_loss: 0.0882\n"
     ]
    },
    {
     "data": {
      "text/plain": [
       "<keras.callbacks.History at 0x7fe1abccedf0>"
      ]
     },
     "execution_count": 10,
     "metadata": {},
     "output_type": "execute_result"
    }
   ],
   "source": [
    "# Train the model\n",
    "autoencoder.fit(x_train, x_train,\n",
    "                epochs=50,\n",
    "                batch_size=128,\n",
    "                shuffle=True,\n",
    "                validation_data=(x_test, x_test))"
   ]
  },
  {
   "cell_type": "code",
   "execution_count": null,
   "metadata": {
    "colab": {
     "base_uri": "https://localhost:8080/"
    },
    "executionInfo": {
     "elapsed": 12163,
     "status": "ok",
     "timestamp": 1680865140847,
     "user": {
      "displayName": "SUYASH GUPTA",
      "userId": "03377751817151127999"
     },
     "user_tz": -330
    },
    "id": "h4_AYN2Mu-0K",
    "outputId": "4b8091f5-1ef3-4f01-e8c1-1c949f49ee02"
   },
   "outputs": [
    {
     "name": "stdout",
     "output_type": "stream",
     "text": [
      "313/313 [==============================] - 5s 16ms/step\n"
     ]
    }
   ],
   "source": [
    "encoded_imgs = autoencoder.predict(x_test)"
   ]
  },
  {
   "cell_type": "code",
   "execution_count": null,
   "metadata": {
    "colab": {
     "base_uri": "https://localhost:8080/"
    },
    "executionInfo": {
     "elapsed": 18,
     "status": "ok",
     "timestamp": 1680865924165,
     "user": {
      "displayName": "SUYASH GUPTA",
      "userId": "03377751817151127999"
     },
     "user_tz": -330
    },
    "id": "s-Y87fWKaiNr",
    "outputId": "4bf4d4c5-da38-4b5b-bdf4-93d0cc70ee3c"
   },
   "outputs": [
    {
     "data": {
      "text/plain": [
       "(10000, 28, 28, 1)"
      ]
     },
     "execution_count": 20,
     "metadata": {},
     "output_type": "execute_result"
    }
   ],
   "source": [
    "encoded_imgs.shape"
   ]
  },
  {
   "cell_type": "code",
   "execution_count": null,
   "metadata": {
    "colab": {
     "base_uri": "https://localhost:8080/"
    },
    "executionInfo": {
     "elapsed": 3633,
     "status": "ok",
     "timestamp": 1680865144450,
     "user": {
      "displayName": "SUYASH GUPTA",
      "userId": "03377751817151127999"
     },
     "user_tz": -330
    },
    "id": "saXrO9SzvHyy",
    "outputId": "dbf4c5b7-94ac-471c-f4c7-513cc3a4cd84"
   },
   "outputs": [
    {
     "name": "stdout",
     "output_type": "stream",
     "text": [
      "313/313 [==============================] - 4s 12ms/step\n"
     ]
    }
   ],
   "source": [
    "decoded_imgs = autoencoder.predict(encoded_imgs)"
   ]
  },
  {
   "cell_type": "code",
   "execution_count": null,
   "metadata": {
    "colab": {
     "base_uri": "https://localhost:8080/"
    },
    "executionInfo": {
     "elapsed": 663,
     "status": "ok",
     "timestamp": 1680865977631,
     "user": {
      "displayName": "SUYASH GUPTA",
      "userId": "03377751817151127999"
     },
     "user_tz": -330
    },
    "id": "QOvZ76GXavqn",
    "outputId": "ed788aa3-d40e-46aa-a758-d500a8a76e47"
   },
   "outputs": [
    {
     "data": {
      "text/plain": [
       "(10000, 28, 28, 1)"
      ]
     },
     "execution_count": 22,
     "metadata": {},
     "output_type": "execute_result"
    }
   ],
   "source": [
    "decoded_imgs.shape"
   ]
  },
  {
   "cell_type": "code",
   "execution_count": null,
   "metadata": {
    "colab": {
     "base_uri": "https://localhost:8080/",
     "height": 265
    },
    "executionInfo": {
     "elapsed": 781,
     "status": "ok",
     "timestamp": 1680866652979,
     "user": {
      "displayName": "SUYASH GUPTA",
      "userId": "03377751817151127999"
     },
     "user_tz": -330
    },
    "id": "1uyyB0yWvQxA",
    "outputId": "7e2f988f-519b-4cb1-ddf0-ed930ef86fef"
   },
   "outputs": [
    {
     "data": {
      "image/png": "[encoded data removed]",
      "text/plain": [
       "<Figure size 2000x400 with 30 Axes>"
      ]
     },
     "metadata": {},
     "output_type": "display_data"
    }
   ],
   "source": [
    "n = 10  # Number of images to display\n",
    "plt.figure(figsize=(20, 4))\n",
    "for i in range(n):\n",
    "    # Original image\n",
    "    ax = plt.subplot(3, n, i + 1)\n",
    "    plt.imshow(x_test[i].reshape(28, 28))\n",
    "    plt.gray()\n",
    "    ax.get_xaxis().set_visible(False)\n",
    "    ax.get_yaxis().set_visible(False)\n",
    "\n",
    "    # Compressed image\n",
    "    ax = plt.subplot(3, n, i + n + 1)\n",
    "    plt.imshow(encoded_imgs[i].reshape(28, 28),cmap='gray')\n",
    "    plt.gray()\n",
    "    ax.get_xaxis().set_visible(False)\n",
    "    ax.get_yaxis().set_visible(False)\n",
    "\n",
    "\n",
    "    # Decompressed image\n",
    "    ax = plt.subplot(3, n, i+ 2*n + 1)\n",
    "    plt.imshow(decoded_imgs[i].reshape(28, 28))\n",
    "    plt.gray()\n",
    "    ax.get_xaxis().set_visible(False)\n",
    "    ax.get_yaxis().set_visible(False)"
   ]
  },
  {
   "cell_type": "code",
   "execution_count": null,
   "metadata": {
    "id": "QoeITYpad4Lh"
   },
   "outputs": [],
   "source": []
  }
 ],
 "metadata": {
  "colab": {
   "authorship_tag": "ABX9TyOvdtE6iK2VMYNX0nVAwVlS",
   "provenance": []
  },
  "kernelspec": {
   "display_name": "Python 3 (ipykernel)",
   "language": "python",
   "name": "python3"
  },
  "language_info": {
   "codemirror_mode": {
    "name": "ipython",
    "version": 3
   },
   "file_extension": ".py",
   "mimetype": "text/x-python",
   "name": "python",
   "nbconvert_exporter": "python",
   "pygments_lexer": "ipython3",
   "version": "3.9.16"
  }
 },
 "nbformat": 4,
 "nbformat_minor": 1
}
